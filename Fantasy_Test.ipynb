{
 "cells": [
  {
   "cell_type": "code",
   "execution_count": 87,
   "id": "28d6b427",
   "metadata": {},
   "outputs": [],
   "source": [
    "import pandas as pd\n",
    "\n",
    "url_2020 = 'https://www.pro-football-reference.com/years/2020/fantasy.htm#fantasy'\n",
    "\n",
    "def clean_data(url):\n",
    "    dfs = pd.read_html(url, header=1)\n",
    "    df_holder = dfs[0]\n",
    "    df_holder = df_holder[df_holder.Rk != \"Rk\"]\n",
    "    df_holder = df_holder[[\"Player\",\"Age\",\"G\",\"Tm\",\"FantPos\",\"FantPt\",\"PosRank\",\"OvRank\"]]\n",
    "    df_holder = df_holder[[\"Age\",\"G\",\"FantPt\",\"PosRank\",\"OvRank\"]].apply(pd.to_numeric)\n",
    "    #df_holder[\"Player\"] = df_holder[\"Player\"].str.replace(' +*','', regex = False)\n",
    "    #df_holder[\"Player\"] = df_holder[\"Player\"].str.replace(' *','', regex = False)\n",
    "    #df_holder[\"Player\"] = df_holder[\"Player\"].str.replace(' +','', regex = False)\n",
    "    #df_holder[\"Player\"] = df_holder[\"Player\"].str.replace('*','', regex = False)\n",
    "    #df_holder[\"Player\"] = df_holder[\"Player\"].str.replace('+','', regex = False)\n",
    "    return df_holder"
   ]
  },
  {
   "cell_type": "code",
   "execution_count": 88,
   "id": "623bb323",
   "metadata": {
    "scrolled": true
   },
   "outputs": [
    {
     "ename": "NameError",
     "evalue": "name 'df_holder' is not defined",
     "output_type": "error",
     "traceback": [
      "\u001b[1;31m---------------------------------------------------------------------------\u001b[0m",
      "\u001b[1;31mNameError\u001b[0m                                 Traceback (most recent call last)",
      "\u001b[1;32m<ipython-input-88-118042570a21>\u001b[0m in \u001b[0;36m<module>\u001b[1;34m\u001b[0m\n\u001b[0;32m      1\u001b[0m \u001b[0mclean_data\u001b[0m\u001b[1;33m(\u001b[0m\u001b[0murl_2020\u001b[0m\u001b[1;33m)\u001b[0m\u001b[1;33m\u001b[0m\u001b[1;33m\u001b[0m\u001b[0m\n\u001b[1;32m----> 2\u001b[1;33m \u001b[0mdf_holder\u001b[0m\u001b[1;33m\u001b[0m\u001b[1;33m\u001b[0m\u001b[0m\n\u001b[0m",
      "\u001b[1;31mNameError\u001b[0m: name 'df_holder' is not defined"
     ]
    }
   ],
   "source": [
    "clean_data(url_2020)\n",
    "df_holder"
   ]
  },
  {
   "cell_type": "code",
   "execution_count": null,
   "id": "a9d0d38f",
   "metadata": {},
   "outputs": [],
   "source": []
  },
  {
   "cell_type": "code",
   "execution_count": 77,
   "id": "71b02c6e",
   "metadata": {},
   "outputs": [],
   "source": [
    "df_2020_rb = df_2020[df_2020.FantPos == \"RB\"]\n",
    "df_2020_rb = df_2020_rb.head(36)\n"
   ]
  },
  {
   "cell_type": "code",
   "execution_count": 78,
   "id": "8de712c8",
   "metadata": {},
   "outputs": [
    {
     "data": {
      "text/html": [
       "<div>\n",
       "<style scoped>\n",
       "    .dataframe tbody tr th:only-of-type {\n",
       "        vertical-align: middle;\n",
       "    }\n",
       "\n",
       "    .dataframe tbody tr th {\n",
       "        vertical-align: top;\n",
       "    }\n",
       "\n",
       "    .dataframe thead th {\n",
       "        text-align: right;\n",
       "    }\n",
       "</style>\n",
       "<table border=\"1\" class=\"dataframe\">\n",
       "  <thead>\n",
       "    <tr style=\"text-align: right;\">\n",
       "      <th></th>\n",
       "      <th>Age</th>\n",
       "      <th>G</th>\n",
       "      <th>FantPt</th>\n",
       "      <th>PosRank</th>\n",
       "      <th>OvRank</th>\n",
       "    </tr>\n",
       "  </thead>\n",
       "  <tbody>\n",
       "    <tr>\n",
       "      <th>count</th>\n",
       "      <td>36.000000</td>\n",
       "      <td>36.000000</td>\n",
       "      <td>36.000000</td>\n",
       "      <td>36.000000</td>\n",
       "      <td>24.000000</td>\n",
       "    </tr>\n",
       "    <tr>\n",
       "      <th>mean</th>\n",
       "      <td>24.972222</td>\n",
       "      <td>14.222222</td>\n",
       "      <td>162.222222</td>\n",
       "      <td>18.500000</td>\n",
       "      <td>35.708333</td>\n",
       "    </tr>\n",
       "    <tr>\n",
       "      <th>std</th>\n",
       "      <td>2.833333</td>\n",
       "      <td>1.675216</td>\n",
       "      <td>53.071440</td>\n",
       "      <td>10.535654</td>\n",
       "      <td>22.586027</td>\n",
       "    </tr>\n",
       "    <tr>\n",
       "      <th>min</th>\n",
       "      <td>21.000000</td>\n",
       "      <td>10.000000</td>\n",
       "      <td>111.000000</td>\n",
       "      <td>1.000000</td>\n",
       "      <td>1.000000</td>\n",
       "    </tr>\n",
       "    <tr>\n",
       "      <th>25%</th>\n",
       "      <td>23.000000</td>\n",
       "      <td>13.000000</td>\n",
       "      <td>122.000000</td>\n",
       "      <td>9.750000</td>\n",
       "      <td>17.250000</td>\n",
       "    </tr>\n",
       "    <tr>\n",
       "      <th>50%</th>\n",
       "      <td>25.000000</td>\n",
       "      <td>15.000000</td>\n",
       "      <td>147.500000</td>\n",
       "      <td>18.500000</td>\n",
       "      <td>35.500000</td>\n",
       "    </tr>\n",
       "    <tr>\n",
       "      <th>75%</th>\n",
       "      <td>26.000000</td>\n",
       "      <td>15.000000</td>\n",
       "      <td>183.750000</td>\n",
       "      <td>27.250000</td>\n",
       "      <td>54.500000</td>\n",
       "    </tr>\n",
       "    <tr>\n",
       "      <th>max</th>\n",
       "      <td>35.000000</td>\n",
       "      <td>16.000000</td>\n",
       "      <td>314.000000</td>\n",
       "      <td>36.000000</td>\n",
       "      <td>77.000000</td>\n",
       "    </tr>\n",
       "  </tbody>\n",
       "</table>\n",
       "</div>"
      ],
      "text/plain": [
       "             Age          G      FantPt    PosRank     OvRank\n",
       "count  36.000000  36.000000   36.000000  36.000000  24.000000\n",
       "mean   24.972222  14.222222  162.222222  18.500000  35.708333\n",
       "std     2.833333   1.675216   53.071440  10.535654  22.586027\n",
       "min    21.000000  10.000000  111.000000   1.000000   1.000000\n",
       "25%    23.000000  13.000000  122.000000   9.750000  17.250000\n",
       "50%    25.000000  15.000000  147.500000  18.500000  35.500000\n",
       "75%    26.000000  15.000000  183.750000  27.250000  54.500000\n",
       "max    35.000000  16.000000  314.000000  36.000000  77.000000"
      ]
     },
     "execution_count": 78,
     "metadata": {},
     "output_type": "execute_result"
    }
   ],
   "source": [
    "df_2020_rb.describe()"
   ]
  },
  {
   "cell_type": "code",
   "execution_count": null,
   "id": "38cdb850",
   "metadata": {},
   "outputs": [],
   "source": []
  }
 ],
 "metadata": {
  "kernelspec": {
   "display_name": "Python 3",
   "language": "python",
   "name": "python3"
  },
  "language_info": {
   "codemirror_mode": {
    "name": "ipython",
    "version": 3
   },
   "file_extension": ".py",
   "mimetype": "text/x-python",
   "name": "python",
   "nbconvert_exporter": "python",
   "pygments_lexer": "ipython3",
   "version": "3.8.8"
  }
 },
 "nbformat": 4,
 "nbformat_minor": 5
}
