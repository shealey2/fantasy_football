{
 "cells": [
  {
   "cell_type": "code",
   "execution_count": 8,
   "id": "2934fa24",
   "metadata": {},
   "outputs": [
    {
     "data": {
      "text/plain": [
       "[                Non-PPR: QB | RB | WR | TE | K | DST\n",
       " 0  Mike Clay: PPR Top 300 | Non-PPR Top 300 | Dyn...\n",
       " 1  More: Matthew Berry's Top 200 | Eric Karabell'...\n",
       " 2                       IDP: Top 50 DLs, LBs and DBs\n",
       " 3                    Depth charts: Offense | Defense\n",
       " 4  Our analysts keep their rankings up-to-date th...]"
      ]
     },
     "execution_count": 8,
     "metadata": {},
     "output_type": "execute_result"
    }
   ],
   "source": [
    "import pandas as pd\n",
    "\n",
    "url_2020 = 'https://www.espn.com/fantasy/football/story/_/page/DraftRanks20QBPPR2/updated-fantasy-football-rankings-2020'\n",
    "dfs = pd.read_html(url_2020, header=1)\n",
    "dfs"
   ]
  },
  {
   "cell_type": "code",
   "execution_count": null,
   "id": "23a2ed78",
   "metadata": {},
   "outputs": [],
   "source": []
  }
 ],
 "metadata": {
  "kernelspec": {
   "display_name": "Python 3",
   "language": "python",
   "name": "python3"
  },
  "language_info": {
   "codemirror_mode": {
    "name": "ipython",
    "version": 3
   },
   "file_extension": ".py",
   "mimetype": "text/x-python",
   "name": "python",
   "nbconvert_exporter": "python",
   "pygments_lexer": "ipython3",
   "version": "3.8.8"
  }
 },
 "nbformat": 4,
 "nbformat_minor": 5
}
